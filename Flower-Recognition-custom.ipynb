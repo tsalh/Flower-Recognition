{
 "cells": [
  {
   "cell_type": "code",
   "execution_count": 1,
   "metadata": {
    "_uuid": "93c2e4a396dc753d53e5d819b00931f8a6082213"
   },
   "outputs": [
    {
     "name": "stdout",
     "output_type": "stream",
     "text": [
      "['daisy', 'sunflower', 'tulip', 'rose', 'dandelion']\n"
     ]
    }
   ],
   "source": [
    "import os\n",
    "print(os.listdir(\"../input/flowers/flowers\"))"
   ]
  },
  {
   "cell_type": "code",
   "execution_count": 2,
   "metadata": {
    "_uuid": "9491c505f2e80abcfa0f5f1678fc98d70477e24f",
    "colab": {},
    "colab_type": "code",
    "id": "X2chQUG7ngj_"
   },
   "outputs": [
    {
     "name": "stderr",
     "output_type": "stream",
     "text": [
      "Using TensorFlow backend.\n"
     ]
    }
   ],
   "source": [
    "import keras\n",
    "from keras.models import Sequential\n",
    "from keras.layers import Activation\n",
    "from keras.layers.core import Dense, Flatten\n",
    "from keras.layers.normalization import BatchNormalization\n",
    "from keras.layers.convolutional import *\n",
    "from keras.preprocessing.image import ImageDataGenerator\n",
    "from keras.optimizers import Adam\n",
    "from keras.metrics import categorical_crossentropy\n",
    "from keras.applications import VGG16\n",
    "\n",
    "\n",
    "# Data directory paths\n",
    "DATA = '../input/flowers/flowers'\n",
    "\n",
    "\n",
    "# Image Size on data\n",
    "IMG_SIZE= ( 320, 240 )\n",
    "\n",
    "# Number of Labels\n",
    "NUM_LABELS = 5\n",
    "\n",
    "# Temp Batch sizes\n",
    "TRAIN_BATCH_SIZE = 91  # steps per epoch = 38\n",
    "TEST_BATCH_SIZE = 173  # steps for validation 5"
   ]
  },
  {
   "cell_type": "code",
   "execution_count": 3,
   "metadata": {
    "_uuid": "f99147f3e38baa2ca1d2cf56a600dbca283f9099",
    "colab": {
     "base_uri": "https://localhost:8080/",
     "height": 51
    },
    "colab_type": "code",
    "id": "2LBeRZjwnpAu",
    "outputId": "adefbec7-7bd6-4b0b-a3d2-3f8ccae77d56",
    "scrolled": false
   },
   "outputs": [
    {
     "name": "stdout",
     "output_type": "stream",
     "text": [
      "Found 3462 images belonging to 5 classes.\n",
      "Found 861 images belonging to 5 classes.\n",
      "Downloading data from https://github.com/fchollet/deep-learning-models/releases/download/v0.1/vgg16_weights_tf_dim_ordering_tf_kernels_notop.h5\n",
      "58892288/58889256 [==============================] - 2s 0us/step\n",
      "_________________________________________________________________\n",
      "Layer (type)                 Output Shape              Param #   \n",
      "=================================================================\n",
      "input_1 (InputLayer)         (None, 320, 240, 3)       0         \n",
      "_________________________________________________________________\n",
      "block1_conv1 (Conv2D)        (None, 320, 240, 64)      1792      \n",
      "_________________________________________________________________\n",
      "block1_conv2 (Conv2D)        (None, 320, 240, 64)      36928     \n",
      "_________________________________________________________________\n",
      "block1_pool (MaxPooling2D)   (None, 160, 120, 64)      0         \n",
      "_________________________________________________________________\n",
      "block2_conv1 (Conv2D)        (None, 160, 120, 128)     73856     \n",
      "_________________________________________________________________\n",
      "block2_conv2 (Conv2D)        (None, 160, 120, 128)     147584    \n",
      "_________________________________________________________________\n",
      "block2_pool (MaxPooling2D)   (None, 80, 60, 128)       0         \n",
      "_________________________________________________________________\n",
      "block3_conv1 (Conv2D)        (None, 80, 60, 256)       295168    \n",
      "_________________________________________________________________\n",
      "block3_conv2 (Conv2D)        (None, 80, 60, 256)       590080    \n",
      "_________________________________________________________________\n",
      "block3_conv3 (Conv2D)        (None, 80, 60, 256)       590080    \n",
      "_________________________________________________________________\n",
      "block3_pool (MaxPooling2D)   (None, 40, 30, 256)       0         \n",
      "_________________________________________________________________\n",
      "block4_conv1 (Conv2D)        (None, 40, 30, 512)       1180160   \n",
      "_________________________________________________________________\n",
      "block4_conv2 (Conv2D)        (None, 40, 30, 512)       2359808   \n",
      "_________________________________________________________________\n",
      "block4_conv3 (Conv2D)        (None, 40, 30, 512)       2359808   \n",
      "_________________________________________________________________\n",
      "block4_pool (MaxPooling2D)   (None, 20, 15, 512)       0         \n",
      "_________________________________________________________________\n",
      "block5_conv1 (Conv2D)        (None, 20, 15, 512)       2359808   \n",
      "_________________________________________________________________\n",
      "block5_conv2 (Conv2D)        (None, 20, 15, 512)       2359808   \n",
      "_________________________________________________________________\n",
      "block5_conv3 (Conv2D)        (None, 20, 15, 512)       2359808   \n",
      "_________________________________________________________________\n",
      "block5_pool (MaxPooling2D)   (None, 10, 7, 512)        0         \n",
      "=================================================================\n",
      "Total params: 14,714,688\n",
      "Trainable params: 14,454,528\n",
      "Non-trainable params: 260,160\n",
      "_________________________________________________________________\n"
     ]
    }
   ],
   "source": [
    "    ####### VGG16\n",
    "    import keras\n",
    "    from keras.models import Sequential\n",
    "    from keras.layers import *\n",
    "    from keras.layers.core import *\n",
    "    from keras.layers.normalization import BatchNormalization\n",
    "    from keras.layers.convolutional import *\n",
    "    from keras.preprocessing.image import ImageDataGenerator\n",
    "    from keras.optimizers import *\n",
    "    from keras.metrics import categorical_crossentropy\n",
    "    from keras.applications import VGG16\n",
    "\n",
    "\n",
    "\n",
    "    \n",
    "    # Get a batch of training data of size \n",
    "    data_gen = ImageDataGenerator( rescale= 1./255,\n",
    "                                   rotation_range=180,\n",
    "                                   horizontal_flip=True,\n",
    "                                   zoom_range=.4,\n",
    "                                   width_shift_range=40,\n",
    "                                   height_shift_range=40,\n",
    "                                   validation_split=.2\n",
    "                                 )\n",
    "    train_batch = data_gen.flow_from_directory( DATA, \n",
    "                                                target_size=IMG_SIZE,\n",
    "                                                batch_size=TRAIN_BATCH_SIZE,\n",
    "                                                subset=\"training\",\n",
    "                                                class_mode=\"categorical\",\n",
    "                                                interpolation=\"nearest\"\n",
    "                                               )\n",
    "    test_batch = data_gen.flow_from_directory( DATA,\n",
    "                                               target_size=IMG_SIZE,\n",
    "                                               batch_size=TEST_BATCH_SIZE,\n",
    "                                               subset=\"validation\",\n",
    "                                               class_mode=\"categorical\",\n",
    "                                               interpolation=\"nearest\"\n",
    "                                             )\n",
    "    # Image data ( height of 320, length of 240, image channel 3 for RGB )\n",
    "    shape = ( 320, 240, 3 )\n",
    "    \n",
    "    vgg16_model = keras.applications.vgg16.VGG16( include_top=False,\n",
    "                                                  weights='imagenet',\n",
    "                                                  input_shape=shape )\n",
    "    model = Sequential()\n",
    "    \n",
    "    i = 0\n",
    "    for layer in vgg16_model.layers:\n",
    "        if( i <= 6):\n",
    "            layer.trainable=False\n",
    "            model.add( layer )\n",
    "            i += 1\n",
    "        else:\n",
    "            break\n",
    "    vgg16_model.summary()"
   ]
  },
  {
   "cell_type": "code",
   "execution_count": 4,
   "metadata": {
    "_uuid": "a89db5fdf77341a76ae70069da08836b267b3451"
   },
   "outputs": [],
   "source": [
    "# Convolution extracts 256 filters that are 3x3\n",
    "# Convolution is followed by max-pooling layer with a 2x2 window\n",
    "model.add(Conv2D(256, 3, activation = 'relu'))\n",
    "model.add(MaxPooling2D(2))\n",
    "\n",
    "# Convolution extracts 512 filters that are 3x3\n",
    "# Convolution is followed by max-pooling layer with a 2x2 window\n",
    "model.add(Conv2D(512, 3, activation='relu'))\n",
    "model.add(MaxPooling2D(2))\n",
    "\n",
    "# Convolution extracts 1024 filters that are 3x3\n",
    "# Convolution is followed by max-pooling layer with a 2x2 window\n",
    "model.add(Convolution2D(1024, 3, activation = 'relu'))\n",
    "model.add(MaxPooling2D(2))\n"
   ]
  },
  {
   "cell_type": "code",
   "execution_count": 5,
   "metadata": {
    "_uuid": "d4410fded875be736be59616ec9b337aa452f822",
    "colab": {},
    "colab_type": "code",
    "id": "pR4gmCZf5Fbc"
   },
   "outputs": [],
   "source": [
    "    \n",
    "# Flatten the feature maps and add fully connected layer of 1024 hidden\n",
    "# units with relu activation with dropout regulizer\n",
    "model.add( Flatten() )\n",
    "model.add( Dense( 1024, activation='relu') )\n",
    "model.add( Dropout(0.5) )"
   ]
  },
  {
   "cell_type": "code",
   "execution_count": 6,
   "metadata": {
    "_uuid": "ab282c44db10627d44dffa7cea86ea6a4da8c87f"
   },
   "outputs": [
    {
     "data": {
      "text/plain": [
       "\"\\n# CNN structure from Assignment 3\\n# Convolutional Layer 16 3x3 filters\\n# MaxPool 2x2\\n# Convolution 32 3x3 filters\\n# MaxPool 2x2\\n# Convolution 64 3x3 filters\\n# MaxPool 2x2\\n# Flatten with 512 hidden nodes with dropout\\nmodel = Sequential([ Conv2D(16, 3, input_shape=shape ),\\n                    MaxPooling2D(2),\\n                    Conv2D( 32, 3, activation='relu'),\\n                    MaxPooling2D(2),\\n                    Conv2D( 64, 3, activation='relu'),\\n                    MaxPooling2D(2),\\n                    Flatten(),\\n                    Dense( 512,activation= 'relu'),\\n                    Dropout(0.5),\\n                    Dense(NUM_LABELS, activation='softmax')\\n                   ]) \""
      ]
     },
     "execution_count": 6,
     "metadata": {},
     "output_type": "execute_result"
    }
   ],
   "source": [
    "\n",
    "\"\"\"\n",
    "# CNN structure from Assignment 3\n",
    "# Convolutional Layer 16 3x3 filters\n",
    "# MaxPool 2x2\n",
    "# Convolution 32 3x3 filters\n",
    "# MaxPool 2x2\n",
    "# Convolution 64 3x3 filters\n",
    "# MaxPool 2x2\n",
    "# Flatten with 512 hidden nodes with dropout\n",
    "model = Sequential([ Conv2D(16, 3, input_shape=shape ),\n",
    "                    MaxPooling2D(2),\n",
    "                    Conv2D( 32, 3, activation='relu'),\n",
    "                    MaxPooling2D(2),\n",
    "                    Conv2D( 64, 3, activation='relu'),\n",
    "                    MaxPooling2D(2),\n",
    "                    Flatten(),\n",
    "                    Dense( 512,activation= 'relu'),\n",
    "                    Dropout(0.5),\n",
    "                    Dense(NUM_LABELS, activation='softmax')\n",
    "                   ]) \"\"\""
   ]
  },
  {
   "cell_type": "code",
   "execution_count": 7,
   "metadata": {
    "_uuid": "a3037297f7945c5f7188346542bf8e59933dd1a9",
    "colab": {},
    "colab_type": "code",
    "id": "VeINNzqQ5KiK"
   },
   "outputs": [
    {
     "name": "stdout",
     "output_type": "stream",
     "text": [
      "_________________________________________________________________\n",
      "Layer (type)                 Output Shape              Param #   \n",
      "=================================================================\n",
      "block1_conv1 (Conv2D)        (None, 320, 240, 64)      1792      \n",
      "_________________________________________________________________\n",
      "block1_conv2 (Conv2D)        (None, 320, 240, 64)      36928     \n",
      "_________________________________________________________________\n",
      "block1_pool (MaxPooling2D)   (None, 160, 120, 64)      0         \n",
      "_________________________________________________________________\n",
      "block2_conv1 (Conv2D)        (None, 160, 120, 128)     73856     \n",
      "_________________________________________________________________\n",
      "block2_conv2 (Conv2D)        (None, 160, 120, 128)     147584    \n",
      "_________________________________________________________________\n",
      "block2_pool (MaxPooling2D)   (None, 80, 60, 128)       0         \n",
      "_________________________________________________________________\n",
      "conv2d_1 (Conv2D)            (None, 78, 58, 256)       295168    \n",
      "_________________________________________________________________\n",
      "max_pooling2d_1 (MaxPooling2 (None, 39, 29, 256)       0         \n",
      "_________________________________________________________________\n",
      "conv2d_2 (Conv2D)            (None, 37, 27, 512)       1180160   \n",
      "_________________________________________________________________\n",
      "max_pooling2d_2 (MaxPooling2 (None, 18, 13, 512)       0         \n",
      "_________________________________________________________________\n",
      "conv2d_3 (Conv2D)            (None, 16, 11, 1024)      4719616   \n",
      "_________________________________________________________________\n",
      "max_pooling2d_3 (MaxPooling2 (None, 8, 5, 1024)        0         \n",
      "_________________________________________________________________\n",
      "flatten_1 (Flatten)          (None, 40960)             0         \n",
      "_________________________________________________________________\n",
      "dense_1 (Dense)              (None, 1024)              41944064  \n",
      "_________________________________________________________________\n",
      "dropout_1 (Dropout)          (None, 1024)              0         \n",
      "_________________________________________________________________\n",
      "dense_2 (Dense)              (None, 5)                 5125      \n",
      "=================================================================\n",
      "Total params: 48,404,293\n",
      "Trainable params: 48,144,133\n",
      "Non-trainable params: 260,160\n",
      "_________________________________________________________________\n"
     ]
    }
   ],
   "source": [
    "output = model.add( Dense(NUM_LABELS, activation='softmax') )          \n",
    "model.compile( optimizer = Adam( lr=.0001 ), loss='categorical_crossentropy', metrics=['accuracy'] )\n",
    "model.summary() "
   ]
  },
  {
   "cell_type": "code",
   "execution_count": 8,
   "metadata": {
    "_uuid": "ca39c6010993f18004809873fdf317886ce03182"
   },
   "outputs": [
    {
     "name": "stdout",
     "output_type": "stream",
     "text": [
      "Epoch 1/20\n",
      "38/38 [==============================] - 95s 2s/step - loss: 11.8430 - acc: 0.2047 - val_loss: 8.1601 - val_acc: 0.2462\n",
      "Epoch 2/20\n",
      "38/38 [==============================] - 68s 2s/step - loss: 3.5403 - acc: 0.3140 - val_loss: 1.2927 - val_acc: 0.5029\n",
      "Epoch 3/20\n",
      "38/38 [==============================] - 68s 2s/step - loss: 1.1639 - acc: 0.5126 - val_loss: 1.0909 - val_acc: 0.5598\n",
      "Epoch 4/20\n",
      "38/38 [==============================] - 68s 2s/step - loss: 1.1027 - acc: 0.5426 - val_loss: 0.9985 - val_acc: 0.5947\n",
      "Epoch 5/20\n",
      "38/38 [==============================] - 67s 2s/step - loss: 0.9447 - acc: 0.6128 - val_loss: 0.8936 - val_acc: 0.6365\n",
      "Epoch 6/20\n",
      "38/38 [==============================] - 68s 2s/step - loss: 0.9570 - acc: 0.6209 - val_loss: 0.9345 - val_acc: 0.6376\n",
      "Epoch 7/20\n",
      "38/38 [==============================] - 69s 2s/step - loss: 0.8985 - acc: 0.6478 - val_loss: 0.8796 - val_acc: 0.6434\n",
      "Epoch 8/20\n",
      "38/38 [==============================] - 67s 2s/step - loss: 0.8487 - acc: 0.6701 - val_loss: 0.8380 - val_acc: 0.6492\n",
      "Epoch 9/20\n",
      "38/38 [==============================] - 67s 2s/step - loss: 0.8409 - acc: 0.6718 - val_loss: 0.8119 - val_acc: 0.6818\n",
      "Epoch 10/20\n",
      "38/38 [==============================] - 68s 2s/step - loss: 0.8180 - acc: 0.6787 - val_loss: 0.8501 - val_acc: 0.6748\n",
      "Epoch 11/20\n",
      "38/38 [==============================] - 66s 2s/step - loss: 0.8444 - acc: 0.6727 - val_loss: 0.7859 - val_acc: 0.6922\n",
      "Epoch 12/20\n",
      "38/38 [==============================] - 67s 2s/step - loss: 0.7548 - acc: 0.7068 - val_loss: 0.7475 - val_acc: 0.7073\n",
      "Epoch 13/20\n",
      "38/38 [==============================] - 67s 2s/step - loss: 0.7431 - acc: 0.7124 - val_loss: 0.7897 - val_acc: 0.6713\n",
      "Epoch 14/20\n",
      "38/38 [==============================] - 68s 2s/step - loss: 0.7652 - acc: 0.7050 - val_loss: 0.7688 - val_acc: 0.7015\n",
      "Epoch 15/20\n",
      "38/38 [==============================] - 67s 2s/step - loss: 0.7124 - acc: 0.7297 - val_loss: 0.7143 - val_acc: 0.7108\n",
      "Epoch 16/20\n",
      "38/38 [==============================] - 68s 2s/step - loss: 0.6904 - acc: 0.7320 - val_loss: 0.7591 - val_acc: 0.6876\n",
      "Epoch 17/20\n",
      "38/38 [==============================] - 65s 2s/step - loss: 0.6388 - acc: 0.7589 - val_loss: 0.7260 - val_acc: 0.7259\n",
      "Epoch 18/20\n",
      "38/38 [==============================] - 67s 2s/step - loss: 0.7413 - acc: 0.7099 - val_loss: 0.7626 - val_acc: 0.7050\n",
      "Epoch 19/20\n",
      "38/38 [==============================] - 67s 2s/step - loss: 0.7224 - acc: 0.7157 - val_loss: 0.7111 - val_acc: 0.7120\n",
      "Epoch 20/20\n",
      "38/38 [==============================] - 67s 2s/step - loss: 0.6763 - acc: 0.7412 - val_loss: 0.6851 - val_acc: 0.7456\n"
     ]
    }
   ],
   "source": [
    "history = model.fit_generator( train_batch,\n",
    "                               steps_per_epoch=38, \n",
    "                               epochs=20,\n",
    "                               validation_data=test_batch,\n",
    "                               validation_steps=5,\n",
    "                               verbose=1 )"
   ]
  },
  {
   "cell_type": "code",
   "execution_count": 9,
   "metadata": {
    "_uuid": "7fb08c1d3ac8b7838e3e3008ee0c4a53b5bd12b3"
   },
   "outputs": [
    {
     "data": {
      "text/plain": [
       "Text(0.5,1,'Training and validation loss')"
      ]
     },
     "execution_count": 9,
     "metadata": {},
     "output_type": "execute_result"
    },
    {
     "data": {
      "image/png": "[encoded data removed]",
      "text/plain": [
       "<Figure size 432x288 with 1 Axes>"
      ]
     },
     "metadata": {},
     "output_type": "display_data"
    },
    {
     "data": {
      "image/png": "[encoded data removed]",
      "text/plain": [
       "<Figure size 432x288 with 1 Axes>"
      ]
     },
     "metadata": {},
     "output_type": "display_data"
    }
   ],
   "source": [
    "# Retrieve a list of accuracy results on training and test data\n",
    "# sets for each training epoch\n",
    "import matplotlib.pyplot as plt\n",
    "import matplotlib.image as mpimg\n",
    "\n",
    "acc = history.history['acc']\n",
    "val_acc = history.history['val_acc']\n",
    "\n",
    "# Retrieve a list of list results on training and test data\n",
    "# sets for each training epoch\n",
    "loss = history.history['loss']\n",
    "val_loss = history.history['val_loss']\n",
    "\n",
    "# Get number of epochs\n",
    "epochs = range(len(acc))\n",
    "\n",
    "# Plot training and validation accuracy per epoch\n",
    "plt.plot(epochs, acc)\n",
    "plt.plot(epochs, val_acc)\n",
    "plt.title('Training and validation accuracy')\n",
    "\n",
    "plt.figure()\n",
    "\n",
    "# Plot training and validation loss per epoch\n",
    "plt.plot(epochs, loss)\n",
    "plt.plot(epochs, val_loss)\n",
    "plt.title('Training and validation loss')"
   ]
  }
 ],
 "metadata": {
  "accelerator": "GPU",
  "colab": {
   "collapsed_sections": [],
   "name": "Flower_Recognition.ipynb",
   "provenance": [],
   "version": "0.3.2"
  },
  "kernelspec": {
   "display_name": "Python 3",
   "language": "python",
   "name": "python3"
  },
  "language_info": {
   "codemirror_mode": {
    "name": "ipython",
    "version": 3
   },
   "file_extension": ".py",
   "mimetype": "text/x-python",
   "name": "python",
   "nbconvert_exporter": "python",
   "pygments_lexer": "ipython3",
   "version": "3.6.6"
  }
 },
 "nbformat": 4,
 "nbformat_minor": 1
}
