{
 "cells": [
  {
   "cell_type": "code",
   "execution_count": 1,
   "metadata": {
    "_uuid": "93c2e4a396dc753d53e5d819b00931f8a6082213"
   },
   "outputs": [
    {
     "name": "stdout",
     "output_type": "stream",
     "text": [
      "['daisy', 'sunflower', 'tulip', 'rose', 'dandelion']\n"
     ]
    }
   ],
   "source": [
    "import os\n",
    "print(os.listdir(\"../input/flowers/flowers\"))\n",
    "data = '../input/flowers/flowers'"
   ]
  },
  {
   "cell_type": "code",
   "execution_count": 2,
   "metadata": {
    "_uuid": "9491c505f2e80abcfa0f5f1678fc98d70477e24f",
    "colab": {},
    "colab_type": "code",
    "id": "X2chQUG7ngj_"
   },
   "outputs": [
    {
     "name": "stderr",
     "output_type": "stream",
     "text": [
      "Using TensorFlow backend.\n"
     ]
    }
   ],
   "source": [
    "import keras\n",
    "from keras.models import Sequential\n",
    "from keras.layers import Activation\n",
    "from keras.layers.core import Dense, Flatten\n",
    "from keras.layers.normalization import BatchNormalization\n",
    "from keras.layers.convolutional import *\n",
    "from keras.preprocessing.image import ImageDataGenerator\n",
    "from keras.optimizers import Adam\n",
    "from keras.metrics import categorical_crossentropy\n",
    "from keras.applications import VGG16\n",
    "\n",
    "# Image Size on data\n",
    "IMG_SIZE= ( 320, 240 )\n",
    "\n",
    "# Number of Labels\n",
    "NUM_LABELs = 5\n",
    "\n",
    "# Data directory paths\n",
    "DATA = '../input/flowers/flowers'\n",
    "\n",
    "# Temp Batch sizes\n",
    "TRAIN_BATCH_SIZE = 91  # steps per epoch = 38\n",
    "TEST_BATCH_SIZE = 173  # steps for validation 5"
   ]
  },
  {
   "cell_type": "code",
   "execution_count": 3,
   "metadata": {
    "_uuid": "f99147f3e38baa2ca1d2cf56a600dbca283f9099",
    "colab": {
     "base_uri": "https://localhost:8080/",
     "height": 51
    },
    "colab_type": "code",
    "id": "2LBeRZjwnpAu",
    "outputId": "adefbec7-7bd6-4b0b-a3d2-3f8ccae77d56",
    "scrolled": true
   },
   "outputs": [
    {
     "name": "stdout",
     "output_type": "stream",
     "text": [
      "Found 3462 images belonging to 5 classes.\n",
      "Found 861 images belonging to 5 classes.\n",
      "Downloading data from https://github.com/fchollet/deep-learning-models/releases/download/v0.1/vgg16_weights_tf_dim_ordering_tf_kernels_notop.h5\n",
      "58892288/58889256 [==============================] - 2s 0us/step\n"
     ]
    }
   ],
   "source": [
    "    ####### VGG16 \n",
    "    import keras\n",
    "    from keras.models import Sequential\n",
    "    from keras.layers import Activation\n",
    "    from keras.layers.core import Dense, Flatten\n",
    "    from keras.layers.normalization import BatchNormalization\n",
    "    from keras.layers.convolutional import *\n",
    "    from keras.preprocessing.image import ImageDataGenerator\n",
    "    from keras.optimizers import Adam\n",
    "    from keras.metrics import categorical_crossentropy\n",
    "    from keras.applications import VGG16\n",
    "    from keras.applications import VGG19\n",
    "\n",
    "\n",
    "\n",
    "    \n",
    "    # Get a batch of training data of size \n",
    "    data_gen = ImageDataGenerator( rescale= 1./255,\n",
    "                                   rotation_range=180,\n",
    "                                   horizontal_flip=True,\n",
    "                                   zoom_range=.4,\n",
    "                                   width_shift_range=40,\n",
    "                                   height_shift_range=40,\n",
    "                                   validation_split=.2\n",
    "                                 )\n",
    "    train_batch = data_gen.flow_from_directory( DATA, \n",
    "                                                target_size=IMG_SIZE,\n",
    "                                                batch_size=TRAIN_BATCH_SIZE,\n",
    "                                                subset=\"training\",\n",
    "                                                class_mode=\"categorical\",\n",
    "                                                interpolation=\"nearest\"\n",
    "                                               )\n",
    "    test_batch = data_gen.flow_from_directory( DATA,\n",
    "                                               target_size=IMG_SIZE,\n",
    "                                               batch_size=TEST_BATCH_SIZE,\n",
    "                                               subset=\"validation\",\n",
    "                                               class_mode=\"categorical\",\n",
    "                                               interpolation=\"nearest\"\n",
    "                                             )\n",
    "    # Image data ( height of 320, length of 240, image channel 3 for RGB )\n",
    "    shape = ( 320, 240, 3 )\n",
    "    vgg16_model = keras.applications.vgg16.VGG16( include_top=False,\n",
    "                                                  weights='imagenet',\n",
    "                                                  input_shape=shape )\n",
    "    base_VGG16_model = Sequential()\n",
    "    for layer in vgg16_model.layers:\n",
    "        base_VGG16_model.add( layer )\n"
   ]
  },
  {
   "cell_type": "code",
   "execution_count": 4,
   "metadata": {
    "_uuid": "d4410fded875be736be59616ec9b337aa452f822",
    "colab": {},
    "colab_type": "code",
    "id": "pR4gmCZf5Fbc"
   },
   "outputs": [],
   "source": [
    "    from keras.layers import Dropout\n",
    "    base_VGG16_model.add( Flatten() )"
   ]
  },
  {
   "cell_type": "code",
   "execution_count": 5,
   "metadata": {
    "_uuid": "a3037297f7945c5f7188346542bf8e59933dd1a9",
    "colab": {},
    "colab_type": "code",
    "id": "VeINNzqQ5KiK"
   },
   "outputs": [
    {
     "name": "stdout",
     "output_type": "stream",
     "text": [
      "_________________________________________________________________\n",
      "Layer (type)                 Output Shape              Param #   \n",
      "=================================================================\n",
      "block1_conv1 (Conv2D)        (None, 320, 240, 64)      1792      \n",
      "_________________________________________________________________\n",
      "block1_conv2 (Conv2D)        (None, 320, 240, 64)      36928     \n",
      "_________________________________________________________________\n",
      "block1_pool (MaxPooling2D)   (None, 160, 120, 64)      0         \n",
      "_________________________________________________________________\n",
      "block2_conv1 (Conv2D)        (None, 160, 120, 128)     73856     \n",
      "_________________________________________________________________\n",
      "block2_conv2 (Conv2D)        (None, 160, 120, 128)     147584    \n",
      "_________________________________________________________________\n",
      "block2_pool (MaxPooling2D)   (None, 80, 60, 128)       0         \n",
      "_________________________________________________________________\n",
      "block3_conv1 (Conv2D)        (None, 80, 60, 256)       295168    \n",
      "_________________________________________________________________\n",
      "block3_conv2 (Conv2D)        (None, 80, 60, 256)       590080    \n",
      "_________________________________________________________________\n",
      "block3_conv3 (Conv2D)        (None, 80, 60, 256)       590080    \n",
      "_________________________________________________________________\n",
      "block3_pool (MaxPooling2D)   (None, 40, 30, 256)       0         \n",
      "_________________________________________________________________\n",
      "block4_conv1 (Conv2D)        (None, 40, 30, 512)       1180160   \n",
      "_________________________________________________________________\n",
      "block4_conv2 (Conv2D)        (None, 40, 30, 512)       2359808   \n",
      "_________________________________________________________________\n",
      "block4_conv3 (Conv2D)        (None, 40, 30, 512)       2359808   \n",
      "_________________________________________________________________\n",
      "block4_pool (MaxPooling2D)   (None, 20, 15, 512)       0         \n",
      "_________________________________________________________________\n",
      "block5_conv1 (Conv2D)        (None, 20, 15, 512)       2359808   \n",
      "_________________________________________________________________\n",
      "block5_conv2 (Conv2D)        (None, 20, 15, 512)       2359808   \n",
      "_________________________________________________________________\n",
      "block5_conv3 (Conv2D)        (None, 20, 15, 512)       2359808   \n",
      "_________________________________________________________________\n",
      "block5_pool (MaxPooling2D)   (None, 10, 7, 512)        0         \n",
      "_________________________________________________________________\n",
      "flatten_1 (Flatten)          (None, 35840)             0         \n",
      "_________________________________________________________________\n",
      "dense_1 (Dense)              (None, 5)                 179205    \n",
      "=================================================================\n",
      "Total params: 14,893,893\n",
      "Trainable params: 14,893,893\n",
      "Non-trainable params: 0\n",
      "_________________________________________________________________\n"
     ]
    }
   ],
   "source": [
    "    output_base_VGG16_model = base_VGG16_model.add( Dense(5, activation='softmax') )\n",
    "    \n",
    "    base_VGG16_model.compile( Adam( lr=.0001), loss='categorical_crossentropy',\n",
    "                   metrics=['accuracy'])\n",
    "    base_VGG16_model.summary()"
   ]
  },
  {
   "cell_type": "code",
   "execution_count": 6,
   "metadata": {
    "_uuid": "5184c25cfcbe8068988618af65e7deff8a01953f",
    "scrolled": false
   },
   "outputs": [
    {
     "name": "stdout",
     "output_type": "stream",
     "text": [
      "Epoch 1/20\n",
      "38/38 [==============================] - 105s 3s/step - loss: 1.0978 - acc: 0.5616 - val_loss: 0.8867 - val_acc: 0.6469\n",
      "Epoch 2/20\n",
      "38/38 [==============================] - 73s 2s/step - loss: 0.6630 - acc: 0.7363 - val_loss: 0.5793 - val_acc: 0.7851\n",
      "Epoch 3/20\n",
      "38/38 [==============================] - 78s 2s/step - loss: 0.6325 - acc: 0.7601 - val_loss: 0.5404 - val_acc: 0.7898\n",
      "Epoch 4/20\n",
      "38/38 [==============================] - 76s 2s/step - loss: 0.5349 - acc: 0.7930 - val_loss: 0.4852 - val_acc: 0.8130\n",
      "Epoch 5/20\n",
      "38/38 [==============================] - 78s 2s/step - loss: 0.5415 - acc: 0.7954 - val_loss: 0.4692 - val_acc: 0.8304\n",
      "Epoch 6/20\n",
      "38/38 [==============================] - 77s 2s/step - loss: 0.4003 - acc: 0.8527 - val_loss: 0.4315 - val_acc: 0.8316\n",
      "Epoch 7/20\n",
      "38/38 [==============================] - 77s 2s/step - loss: 0.3800 - acc: 0.8536 - val_loss: 0.3650 - val_acc: 0.8606\n",
      "Epoch 8/20\n",
      "38/38 [==============================] - 77s 2s/step - loss: 0.3814 - acc: 0.8582 - val_loss: 0.3877 - val_acc: 0.8432\n",
      "Epoch 9/20\n",
      "38/38 [==============================] - 77s 2s/step - loss: 0.4293 - acc: 0.8365 - val_loss: 0.4568 - val_acc: 0.8246\n",
      "Epoch 10/20\n",
      "38/38 [==============================] - 77s 2s/step - loss: 0.3749 - acc: 0.8518 - val_loss: 0.4298 - val_acc: 0.8560\n",
      "Epoch 11/20\n",
      "38/38 [==============================] - 77s 2s/step - loss: 0.3829 - acc: 0.8532 - val_loss: 0.3782 - val_acc: 0.8653\n",
      "Epoch 12/20\n",
      "38/38 [==============================] - 76s 2s/step - loss: 0.3512 - acc: 0.8686 - val_loss: 0.3582 - val_acc: 0.8757\n",
      "Epoch 13/20\n",
      "38/38 [==============================] - 77s 2s/step - loss: 0.3208 - acc: 0.8816 - val_loss: 0.3465 - val_acc: 0.8606\n",
      "Epoch 14/20\n",
      "38/38 [==============================] - 76s 2s/step - loss: 0.2713 - acc: 0.8973 - val_loss: 0.4731 - val_acc: 0.8432\n",
      "Epoch 15/20\n",
      "38/38 [==============================] - 77s 2s/step - loss: 0.2787 - acc: 0.9031 - val_loss: 0.4230 - val_acc: 0.8490\n",
      "Epoch 16/20\n",
      "38/38 [==============================] - 77s 2s/step - loss: 0.2402 - acc: 0.9120 - val_loss: 0.4149 - val_acc: 0.8792\n",
      "Epoch 17/20\n",
      "38/38 [==============================] - 77s 2s/step - loss: 0.2843 - acc: 0.8954 - val_loss: 0.4014 - val_acc: 0.8571\n",
      "Epoch 18/20\n",
      "38/38 [==============================] - 77s 2s/step - loss: 0.2742 - acc: 0.8975 - val_loss: 0.4153 - val_acc: 0.8583\n",
      "Epoch 19/20\n",
      "38/38 [==============================] - 77s 2s/step - loss: 0.2740 - acc: 0.9054 - val_loss: 0.3699 - val_acc: 0.8548\n",
      "Epoch 20/20\n",
      "38/38 [==============================] - 77s 2s/step - loss: 0.2124 - acc: 0.9259 - val_loss: 0.3603 - val_acc: 0.8873\n"
     ]
    }
   ],
   "source": [
    "    # Test the base VGG16\n",
    "    history = base_VGG16_model.fit_generator( \n",
    "        train_batch,\n",
    "        steps_per_epoch=38,\n",
    "        epochs=20, \n",
    "        validation_data=test_batch,\n",
    "        validation_steps=5,\n",
    "        verbose=1)"
   ]
  },
  {
   "cell_type": "code",
   "execution_count": 7,
   "metadata": {
    "_uuid": "7fb08c1d3ac8b7838e3e3008ee0c4a53b5bd12b3"
   },
   "outputs": [
    {
     "data": {
      "text/plain": [
       "Text(0.5,1,'Training and validation loss for VGG16.')"
      ]
     },
     "execution_count": 7,
     "metadata": {},
     "output_type": "execute_result"
    },
    {
     "data": {
      "image/png": "[encoded data removed]",
      "text/plain": [
       "<Figure size 432x288 with 1 Axes>"
      ]
     },
     "metadata": {},
     "output_type": "display_data"
    },
    {
     "data": {
      "image/png": "[encoded data removed]",
      "text/plain": [
       "<Figure size 432x288 with 1 Axes>"
      ]
     },
     "metadata": {},
     "output_type": "display_data"
    }
   ],
   "source": [
    "# Retrieve a list of accuracy results on training and test data\n",
    "# sets for each training epoch\n",
    "import matplotlib.pyplot as plt\n",
    "import matplotlib.image as mpimg\n",
    "\n",
    "acc = history.history['acc']\n",
    "val_acc = history.history['val_acc']\n",
    "\n",
    "# Retrieve a list of list results on training and test data\n",
    "# sets for each training epoch\n",
    "loss = history.history['loss']\n",
    "val_loss = history.history['val_loss']\n",
    "\n",
    "# Get number of epochs\n",
    "epochs = range(len(acc))\n",
    "\n",
    "# Plot training and validation accuracy per epoch\n",
    "plt.plot(epochs, acc)\n",
    "plt.plot(epochs, val_acc)\n",
    "plt.title('Training and validation accuracy for VGG16.')\n",
    "\n",
    "plt.figure()\n",
    "\n",
    "# Plot training and validation loss per epoch\n",
    "plt.plot(epochs, loss)\n",
    "plt.plot(epochs, val_loss)\n",
    "plt.title('Training and validation loss for VGG16.')"
   ]
  }
 ],
 "metadata": {
  "accelerator": "GPU",
  "colab": {
   "collapsed_sections": [],
   "name": "Flower_Recognition.ipynb",
   "provenance": [],
   "version": "0.3.2"
  },
  "kernelspec": {
   "display_name": "Python 3",
   "language": "python",
   "name": "python3"
  },
  "language_info": {
   "codemirror_mode": {
    "name": "ipython",
    "version": 3
   },
   "file_extension": ".py",
   "mimetype": "text/x-python",
   "name": "python",
   "nbconvert_exporter": "python",
   "pygments_lexer": "ipython3",
   "version": "3.6.6"
  }
 },
 "nbformat": 4,
 "nbformat_minor": 1
}
